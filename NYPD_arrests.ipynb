{
 "cells": [
  {
   "cell_type": "code",
   "execution_count": 1,
   "metadata": {},
   "outputs": [],
   "source": [
    "import pandas as pd; pd.set_option('display.max_rows', 1000); pd.set_option('display.max_columns', 500)\n",
    "import numpy as np\n",
    "import matplotlib.pyplot as plt\n",
    "import seaborn as sns; sns.set(color_codes=True) # sns.set(style='darkgrid')\n",
    "\n",
    "import geopandas as gpd # http://geopandas.org/gallery/plotting_basemap_background.html#sphx-glr-gallery-plotting-basemap-background-py\n",
    "import contextily as ctx\n",
    "\n",
    "import shapely.wkt # https://stackoverflow.com/questions/51855917/shapely-polygon-from-string\n",
    "from shapely.geometry import Point, LineString, MultiLineString, Polygon\n",
    "from shapely.ops import cascaded_union"
   ]
  },
  {
   "cell_type": "code",
   "execution_count": 2,
   "metadata": {},
   "outputs": [],
   "source": [
    "df = pd.read_csv('NYPD_Arrests_Data__Historic_.csv')"
   ]
  },
  {
   "cell_type": "code",
   "execution_count": 3,
   "metadata": {},
   "outputs": [
    {
     "data": {
      "text/plain": [
       "(4798339, 18)"
      ]
     },
     "execution_count": 3,
     "metadata": {},
     "output_type": "execute_result"
    }
   ],
   "source": [
    "df.shape"
   ]
  },
  {
   "cell_type": "code",
   "execution_count": 4,
   "metadata": {
    "scrolled": false
   },
   "outputs": [
    {
     "name": "stdout",
     "output_type": "stream",
     "text": [
      "<class 'pandas.core.frame.DataFrame'>\n",
      "RangeIndex: 4798339 entries, 0 to 4798338\n",
      "Data columns (total 18 columns):\n",
      "ARREST_KEY           int64\n",
      "ARREST_DATE          object\n",
      "PD_CD                float64\n",
      "PD_DESC              object\n",
      "KY_CD                float64\n",
      "OFNS_DESC            object\n",
      "LAW_CODE             object\n",
      "LAW_CAT_CD           object\n",
      "ARREST_BORO          object\n",
      "ARREST_PRECINCT      int64\n",
      "JURISDICTION_CODE    float64\n",
      "AGE_GROUP            object\n",
      "PERP_SEX             object\n",
      "PERP_RACE            object\n",
      "X_COORD_CD           float64\n",
      "Y_COORD_CD           float64\n",
      "Latitude             float64\n",
      "Longitude            float64\n",
      "dtypes: float64(7), int64(2), object(9)\n",
      "memory usage: 659.0+ MB\n"
     ]
    }
   ],
   "source": [
    "df.info()"
   ]
  },
  {
   "cell_type": "code",
   "execution_count": null,
   "metadata": {},
   "outputs": [],
   "source": [
    "def Data_Stat(df, n_row_view = 3):\n",
    "    types = pd.Series({c:str(df[c].dtype) for c in df.columns}) # variable type\n",
    "    total = df.isnull().sum() # the number of null values\n",
    "    percent = 100 * total / df.isnull().count() # the percentage of null values\n",
    "    n_unique = df.nunique() # the number of unique values\n",
    "    \n",
    "    tt = np.transpose(pd.concat([types, total, percent, n_unique], axis=1, keys=['Types', '# of nulls', '% of nulls', '# of uniques']))\n",
    "    return pd.concat([df.head(n_row_view), tt], axis = 0)\n",
    "\n",
    "Data_Stat(df)\n",
    "# df.head()"
   ]
  },
  {
   "cell_type": "code",
   "execution_count": null,
   "metadata": {},
   "outputs": [],
   "source": [
    "df['ARREST_DATE'] = pd.to_datetime(df['ARREST_DATE'], format='%m/%d/%Y')\n",
    "df['year'] = df['ARREST_DATE'].dt.year\n",
    "df['month'] = df['ARREST_DATE'].dt.month\n",
    "df['day'] = df['ARREST_DATE'].dt.day\n",
    "df['dayofweek'] = df['ARREST_DATE'].dt.dayofweek\n",
    "df['hour'] = df['ARREST_DATE'].dt.hour\n",
    "\n",
    "df['location'] = df[['Longitude','Latitude']].apply(lambda x: Point(x[0],x[1]), axis=1)\n",
    "\n",
    "df['count'] = 1\n",
    "\n",
    "df.head()"
   ]
  },
  {
   "cell_type": "code",
   "execution_count": null,
   "metadata": {},
   "outputs": [],
   "source": []
  },
  {
   "cell_type": "code",
   "execution_count": null,
   "metadata": {},
   "outputs": [],
   "source": [
    "df.set_index('ARREST_DATE').resample('M').count().plot(y='count')"
   ]
  },
  {
   "cell_type": "code",
   "execution_count": null,
   "metadata": {},
   "outputs": [],
   "source": [
    "df.set_index('ARREST_DATE').resample('D').count().plot(y='count')"
   ]
  },
  {
   "cell_type": "code",
   "execution_count": null,
   "metadata": {},
   "outputs": [],
   "source": [
    "from statsmodels.tsa.seasonal import seasonal_decompose\n",
    "\n",
    "result = seasonal_decompose(df.set_index('ARREST_DATE').resample('M')['count'].count(), \n",
    "                            model='additive') #ref) https://machinelearningmastery.com/decompose-time-series-data-trend-seasonality/\n",
    "result.plot()\n",
    "plt.show()"
   ]
  },
  {
   "cell_type": "code",
   "execution_count": null,
   "metadata": {},
   "outputs": [],
   "source": [
    "# https://data.cityofnewyork.us/Public-Safety/Police-Precincts/78dh-3ptz\n",
    "df_precinct = gpd.read_file('Police Precincts/geo_export_bf3a580e-5e32-463e-a39e-5c7a9c0405cf.shp')\n",
    "print(df_precinct.shape)\n",
    "df_precinct.head(3)"
   ]
  },
  {
   "cell_type": "code",
   "execution_count": null,
   "metadata": {
    "scrolled": false
   },
   "outputs": [],
   "source": [
    "for year in [2006,2012,2018]:\n",
    "    fig, ax = plt.subplots(1, figsize=(10, 6))\n",
    "    df_precinct.join(\n",
    "        df.loc[df['year']==year].groupby('ARREST_PRECINCT')['count'].count(),\n",
    "        on='precinct', how='left'\n",
    "    ).plot(ax=ax, column='count', cmap='OrRd', linewidth=0.2, edgecolor='0.2', legend=True, figsize=(10,6))\n",
    "    ax.axis('off')\n",
    "    plt.title('year = %s'%year)\n",
    "    plt.show()"
   ]
  },
  {
   "cell_type": "code",
   "execution_count": null,
   "metadata": {},
   "outputs": [],
   "source": []
  },
  {
   "cell_type": "code",
   "execution_count": null,
   "metadata": {},
   "outputs": [],
   "source": [
    "# data source) https://www1.nyc.gov/site/planning/planning-level/nyc-population/current-future-populations.page\n",
    "nyc_pop = pd.DataFrame({'year':       [2010, 2011, 2012, 2013, 2014, 2015, 2016, 2017, 2018], \n",
    "                        'population': [8.190,8.273,8.348,8.399,8.437,8.468,8.476,8.438,8.399]})\n",
    "nyc_pop['population'] = nyc_pop['population'] * 1000000"
   ]
  },
  {
   "cell_type": "code",
   "execution_count": null,
   "metadata": {},
   "outputs": [],
   "source": [
    "nyc_pop.plot(x='year', y='population', marker='o')"
   ]
  },
  {
   "cell_type": "code",
   "execution_count": null,
   "metadata": {},
   "outputs": [],
   "source": [
    "arrest_count = df.groupby('year')['count'].sum()\n",
    "arrest_count"
   ]
  },
  {
   "cell_type": "code",
   "execution_count": null,
   "metadata": {},
   "outputs": [],
   "source": [
    "nyc_arrests = nyc_pop.join(arrest_count, on='year', how='left')\n",
    "nyc_arrests['arrest_rate'] = nyc_arrests['count'] / nyc_arrests['population'] * 100000 # https://oag.ca.gov/sites/all/files/agweb/pdfs/cjsc/stats/computational_formulas.pdf\n",
    "nyc_arrests.plot(x='year', y='arrest_rate', marker='o'); plt.show()\n",
    "nyc_arrests"
   ]
  },
  {
   "cell_type": "code",
   "execution_count": null,
   "metadata": {},
   "outputs": [],
   "source": []
  },
  {
   "cell_type": "code",
   "execution_count": null,
   "metadata": {},
   "outputs": [],
   "source": [
    "df_month = df.groupby(['year','month']).count().reset_index(drop=False)\n",
    "df_month = df_month.join(nyc_pop.set_index('year'), on='year', how='left')\n",
    "df_month['arrest_rate'] = df_month['count'] / df_month['population'] * 100000\n",
    "df_month_2015_2018 = df_month.loc[df_month['year']>=2015]\n",
    "\n",
    "sns.lmplot(x='year', y='arrest_rate', data=df_month_2015_2018, ci=95, x_jitter=0.1) # https://seaborn.pydata.org/tutorial/regression.html\n",
    "plt.xticks([2015,2016,2017,2018])\n",
    "plt.show()"
   ]
  },
  {
   "cell_type": "code",
   "execution_count": null,
   "metadata": {},
   "outputs": [],
   "source": [
    "df_day = df.groupby(['year','month','day']).count().reset_index(drop=False)\n",
    "df_day = df_day.join(nyc_pop.set_index('year'), on='year', how='left')\n",
    "df_day['arrest_rate'] = df_day['count'] / df_day['population'] * 100000\n",
    "df_day_2015_2018 = df_day.loc[df_day['year']>=2015]\n",
    "\n",
    "sns.lmplot(x='year', y='arrest_rate', data=df_day_2015_2018, ci=95, x_jitter=0.1) # https://seaborn.pydata.org/tutorial/regression.html\n",
    "plt.xticks([2015,2016,2017,2018])\n",
    "plt.show()"
   ]
  },
  {
   "cell_type": "code",
   "execution_count": null,
   "metadata": {},
   "outputs": [],
   "source": []
  },
  {
   "cell_type": "code",
   "execution_count": null,
   "metadata": {},
   "outputs": [],
   "source": [
    "PD_DESC_freq = df.loc[df['year']==2018,'PD_DESC'].value_counts()\n",
    "PD_DESC_freq.reset_index().rename(columns={'index':'PD_DESC','PD_DESC':'arrest_count_2018'}).head(11)"
   ]
  },
  {
   "cell_type": "code",
   "execution_count": null,
   "metadata": {},
   "outputs": [],
   "source": [
    "PD_DESC_freq_top5 = PD_DESC_freq.index[0:5]\n",
    "PD_DESC_freq_top5"
   ]
  },
  {
   "cell_type": "code",
   "execution_count": null,
   "metadata": {},
   "outputs": [],
   "source": [
    "df.loc[df['PD_DESC'].apply(lambda x: x in PD_DESC_freq_top5),['PD_DESC','LAW_CAT_CD']]\\\n",
    "  .drop_duplicates().sort_values('PD_DESC').reset_index(drop=True)"
   ]
  },
  {
   "cell_type": "code",
   "execution_count": null,
   "metadata": {},
   "outputs": [],
   "source": []
  },
  {
   "cell_type": "code",
   "execution_count": null,
   "metadata": {},
   "outputs": [],
   "source": [
    "data = df.loc[df['PD_DESC'].apply(lambda x: x in PD_DESC_freq_top5)].\\\n",
    "          groupby(['year','PD_DESC'])['count'].count().\\\n",
    "          reset_index()\n",
    "\n",
    "fig, ax = plt.subplots(figsize=(15,7))\n",
    "sns.pointplot(ax=ax, x='year', y='count', hue='PD_DESC', data=data, capsize=.2, dodge=True)\n",
    "plt.show()"
   ]
  },
  {
   "cell_type": "code",
   "execution_count": null,
   "metadata": {},
   "outputs": [],
   "source": []
  },
  {
   "cell_type": "code",
   "execution_count": null,
   "metadata": {},
   "outputs": [],
   "source": [
    "data = df.loc[df['ARREST_PRECINCT'].apply(lambda x: x in [19,73])].\\\n",
    "          groupby(['year','ARREST_PRECINCT'])['count'].count().\\\n",
    "          reset_index()\n",
    "\n",
    "fig, ax = plt.subplots(figsize=(15,7))\n",
    "sns.pointplot(ax=ax, x='year', y='count', hue='ARREST_PRECINCT', data=data, capsize=.2, dodge=True)\n",
    "plt.show()"
   ]
  },
  {
   "cell_type": "code",
   "execution_count": null,
   "metadata": {},
   "outputs": [],
   "source": [
    "df['ratio_felony'] = df['LAW_CAT_CD'].apply(lambda x: x=='F' if pd.notnull(x) else False)\n",
    "data2 = df.loc[df['ARREST_PRECINCT'].apply(lambda x: x in [19,73])]\n",
    "\n",
    "fig, ax = plt.subplots(figsize=(15,7))\n",
    "sns.pointplot(ax=ax, x='year', y='ratio_felony', hue='ARREST_PRECINCT', data=data2, ci=95, capsize=.2, dodge=True)\n",
    "plt.show()"
   ]
  },
  {
   "cell_type": "code",
   "execution_count": null,
   "metadata": {},
   "outputs": [],
   "source": []
  }
 ],
 "metadata": {
  "kernelspec": {
   "display_name": "Python 3",
   "language": "python",
   "name": "python3"
  },
  "language_info": {
   "codemirror_mode": {
    "name": "ipython",
    "version": 3
   },
   "file_extension": ".py",
   "mimetype": "text/x-python",
   "name": "python",
   "nbconvert_exporter": "python",
   "pygments_lexer": "ipython3",
   "version": "3.7.4"
  }
 },
 "nbformat": 4,
 "nbformat_minor": 2
}
